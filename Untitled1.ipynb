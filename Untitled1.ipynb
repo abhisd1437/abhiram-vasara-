{
 "cells": [
  {
   "cell_type": "markdown",
   "id": "7f6928cf-c08d-4948-a8e7-c431f0cb0700",
   "metadata": {},
   "source": [
    "# My Jupyter Notebook on IBM Watson Studio"
   ]
  },
  {
   "cell_type": "markdown",
   "id": "af2dfd40-1faf-4e4e-af12-82b309e23475",
   "metadata": {},
   "source": [
    "**Abhiram Vasara**\n",
    "\n",
    "Data analyst"
   ]
  },
  {
   "cell_type": "markdown",
   "id": "0adc1dc9-d4ee-4e18-8990-cb79f147054c",
   "metadata": {},
   "source": [
    "*I am interested in data science because the future is in data and data science is really interesting for me*"
   ]
  },
  {
   "cell_type": "markdown",
   "id": "b79b836f-434e-47b6-8588-cbd952201294",
   "metadata": {},
   "source": [
    "### The code which i am about to do in Cell 5 does multiplication of any two numbers"
   ]
  },
  {
   "cell_type": "code",
   "execution_count": 1,
   "id": "d5e6a7c8-082a-421d-a2d0-7b091d5a3b5c",
   "metadata": {},
   "outputs": [
    {
     "name": "stdin",
     "output_type": "stream",
     "text": [
      "enter first number 20\n",
      "enter second number 10\n"
     ]
    },
    {
     "name": "stdout",
     "output_type": "stream",
     "text": [
      "200\n"
     ]
    }
   ],
   "source": [
    "num1=int(input(\"enter first number\"))\n",
    "num2=int(input(\"enter second number\"))\n",
    "num3= num1 * num2\n",
    "print(num3)"
   ]
  },
  {
   "cell_type": "markdown",
   "id": "e2135dce-edf0-4488-be04-dc91c3a7df46",
   "metadata": {},
   "source": [
    "### Horizontal Rule\n",
    " \n",
    "abhiram\n",
    "\n",
    "***\n",
    "\n",
    "studying BCA\n",
    "\n",
    "___\n",
    "\n",
    "Born in Hyderabad\n",
    "\n",
    "\n",
    "### Hyperlinks\n",
    "\n",
    "[Google](https://www.google.co.in/)\n",
    "\n",
    "[Facebook](https://www.facebook.com/)\n",
    "\n",
    "[Google colab](https://colab.research.google.com/)\n",
    "\n",
    "\n",
    "\n",
    "### Numbered list\n",
    "\n",
    "1.Data analyst  \n",
    "2.Data engineer  \n",
    "3.Data scientist  "
   ]
  }
 ],
 "metadata": {
  "kernelspec": {
   "display_name": "Python",
   "language": "python",
   "name": "conda-env-python-py"
  },
  "language_info": {
   "codemirror_mode": {
    "name": "ipython",
    "version": 3
   },
   "file_extension": ".py",
   "mimetype": "text/x-python",
   "name": "python",
   "nbconvert_exporter": "python",
   "pygments_lexer": "ipython3",
   "version": "3.7.12"
  }
 },
 "nbformat": 4,
 "nbformat_minor": 5
}
